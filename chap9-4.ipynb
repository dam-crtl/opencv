{
 "cells": [
  {
   "cell_type": "markdown",
   "metadata": {},
   "source": [
    "# 多層パーセプトロン"
   ]
  },
  {
   "cell_type": "code",
   "execution_count": 5,
   "metadata": {},
   "outputs": [],
   "source": [
    "from sklearn.datasets import make_blobs\n",
    "X_raw, y_raw = make_blobs(n_samples = 100, centers=2, cluster_std=5.2, random_state=42)"
   ]
  },
  {
   "cell_type": "code",
   "execution_count": 6,
   "metadata": {},
   "outputs": [],
   "source": [
    "import numpy as np\n",
    "X = X_raw.astype(np.float32)"
   ]
  },
  {
   "cell_type": "code",
   "execution_count": 7,
   "metadata": {},
   "outputs": [],
   "source": [
    "from sklearn.preprocessing import OneHotEncoder\n",
    "enc = OneHotEncoder(sparse=False, dtype=np.float32)\n",
    "y = enc.fit_transform(y_raw.reshape(-1, 1))"
   ]
  },
  {
   "cell_type": "code",
   "execution_count": 8,
   "metadata": {},
   "outputs": [],
   "source": [
    "import cv2\n",
    "mlp = cv2.ml.ANN_MLP_create()"
   ]
  },
  {
   "cell_type": "code",
   "execution_count": 9,
   "metadata": {},
   "outputs": [],
   "source": [
    "n_input = 2\n",
    "n_hidden = 8\n",
    "n_output = 2\n",
    "mlp.setLayerSizes(np.array([n_input, n_hidden, n_output]))"
   ]
  },
  {
   "cell_type": "markdown",
   "metadata": {},
   "source": [
    "MLP分類器のカスタマイズ\\\n",
    "・mlp.setActivationFunction:ネットワーク内全てのニューロンにおける活性化関数を定義\\\n",
    "・mlp.setTrainMethod:学習方法を定義\\\n",
    "・mlp.setTermCriteria:学習フェーズの終了条件を設定\\\n",
    "・cv2.ANN_MLP_IDENTITY:線形活性化関数\\\n",
    "・cv2.ANN_MLP_SIGMOID_SYM:対称シグモイド関数(双曲線正接関数)\\\n",
    "・cv2.ANN_GAUSSIAN:ガウス関数"
   ]
  },
  {
   "cell_type": "code",
   "execution_count": 10,
   "metadata": {},
   "outputs": [],
   "source": [
    "mlp.setActivationFunction(cv2.ml.ANN_MLP_SIGMOID_SYM, 2.5, 1.0)"
   ]
  },
  {
   "cell_type": "code",
   "execution_count": 11,
   "metadata": {},
   "outputs": [],
   "source": [
    "import matplotlib.pyplot as plt\n",
    "plt.style.use('ggplot')"
   ]
  },
  {
   "cell_type": "code",
   "execution_count": 12,
   "metadata": {},
   "outputs": [
    {
     "data": {
      "text/plain": [
       "Text(0, 0.5, 'y')"
      ]
     },
     "execution_count": 12,
     "metadata": {},
     "output_type": "execute_result"
    },
    {
     "data": {
      "image/png": "[encoded data removed]",
      "text/plain": [
       "<Figure size 432x288 with 1 Axes>"
      ]
     },
     "metadata": {},
     "output_type": "display_data"
    }
   ],
   "source": [
    "alpha = 2.5\n",
    "beta = 1.0\n",
    "x_sig = np.linspace(-1.0, 1.0, 100)\n",
    "y_sig = beta * (1.0 - np.exp(-alpha * x_sig))\n",
    "y_sig /= (1 + np.exp(-alpha * x_sig))\n",
    "plt.plot(x_sig, y_sig, linewidth=3)\n",
    "plt.xlabel('x')\n",
    "plt.ylabel('y')"
   ]
  },
  {
   "cell_type": "markdown",
   "metadata": {},
   "source": [
    "学習方法の設定\\\n",
    "・cv2.ml.ANN_MLP_BAKPROP:バックプロぱゲーションのアルゴリズム\\\n",
    "  mlp.setBackpropMomentumScale、mlp.setCackpropWightScaleメソッドを用いて追加のスケーリング係数を設定可能\\\n",
    "・cv2.ml.ANN_MLP_PROP:Rpropアルゴリズム\\\n",
    "  mlp.setRpopDW0、mlp.setRpropDWMax、mlp.setRpropDWMin、mlp.setRpropDWMinus、mlp.setRpropDWPlusメソッドで追加パラメータを設定可能"
   ]
  },
  {
   "cell_type": "code",
   "execution_count": 13,
   "metadata": {},
   "outputs": [],
   "source": [
    "mlp.setTrainMethod(cv2.ml.ANN_MLP_BACKPROP)"
   ]
  },
  {
   "cell_type": "code",
   "execution_count": null,
   "metadata": {},
   "outputs": [],
   "source": [
    "term_mode = cv2.TERM_CRITERIA_MAX_ITER + cv2.TERM_CRITETIA_EPS\n",
    "term_max_iter = 300\n",
    "term_"
   ]
  }
 ],
 "metadata": {
  "kernelspec": {
   "display_name": "Python 3 (ipykernel)",
   "language": "python",
   "name": "python3"
  },
  "language_info": {
   "codemirror_mode": {
    "name": "ipython",
    "version": 3
   },
   "file_extension": ".py",
   "mimetype": "text/x-python",
   "name": "python",
   "nbconvert_exporter": "python",
   "pygments_lexer": "ipython3",
   "version": "3.9.12"
  },
  "vscode": {
   "interpreter": {
    "hash": "7c7da24df9ed2709a5963e01e5c694b36f4218b9d893e201635b9542b8c007e8"
   }
  }
 },
 "nbformat": 4,
 "nbformat_minor": 4
}
