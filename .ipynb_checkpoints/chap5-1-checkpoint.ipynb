{
 "cells": [
  {
   "cell_type": "code",
   "execution_count": null,
   "metadata": {},
   "outputs": [],
   "source": [
    "data = [\n",
    "    'I am Mohammed Abacha, the son of the late Nigerian Head of ' 'State who died on the 8th of June 1998. Since i have been ' 'unsuccessful in locating the relatives for over 2 years now ' 'I seek your consent to present you as the next of kin so ' 'that the proceeds of this account valued at US$15.5 Million ' 'Dollars can be paid to you. If you are capable and willing ' 'to assist, contact me at once via email with following ' 'details: 1. Your full name, address, and telephone number. ' '2. Your Bank Name, Address. 3.Your Bank Account Number and ' 'Beneficiary Name - You must be the signatory.'\n",
    "]"
   ]
  }
 ],
 "metadata": {
  "language_info": {
   "name": "python"
  },
  "orig_nbformat": 4
 },
 "nbformat": 4,
 "nbformat_minor": 2
}
