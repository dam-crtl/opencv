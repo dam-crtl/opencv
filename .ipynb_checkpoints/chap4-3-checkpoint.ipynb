{
 "cells": [
  {
   "cell_type": "code",
   "execution_count": null,
   "metadata": {},
   "outputs": [],
   "source": [
    "import numpy as np\n",
    "mean = [20, 20]\n",
    "cov =[[5, 0],  [25, 25]]\n",
    "x, y = np.ramdom.multivariate_normal(mean, cov, 1000).T"
   ]
  }
 ],
 "metadata": {
  "language_info": {
   "name": "python"
  },
  "orig_nbformat": 4
 },
 "nbformat": 4,
 "nbformat_minor": 2
}
