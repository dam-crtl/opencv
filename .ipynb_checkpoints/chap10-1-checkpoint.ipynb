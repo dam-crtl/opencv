{
 "cells": [
  {
   "cell_type": "markdown",
   "metadata": {},
   "source": [
    "# アンサンブル法 "
   ]
  },
  {
   "cell_type": "code",
   "execution_count": null,
   "metadata": {},
   "outputs": [],
   "source": [
    "from sklearn.ensamble import BaggingClassifier\n",
    "from sklearn.neighbors import KNeighborsClassifier\n",
    "bag_knn = BaggingClassifier(KNeighborsClassifier(), n_estimators=10)"
   ]
  }
 ],
 "metadata": {
  "language_info": {
   "name": "python"
  },
  "orig_nbformat": 4
 },
 "nbformat": 4,
 "nbformat_minor": 2
}
