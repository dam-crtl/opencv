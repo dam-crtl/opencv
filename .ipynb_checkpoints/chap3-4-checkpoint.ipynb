{
 "cells": [
  {
   "cell_type": "code",
   "execution_count": null,
   "metadata": {},
   "outputs": [],
   "source": []
  }
 ],
 "metadata": {
  "kernelspec": {
   "display_name": "Python 3.9.12 ('base')",
   "language": "python",
   "name": "python3"
  },
  "language_info": {
   "name": "python",
   "version": "3.9.12"
  },
  "orig_nbformat": 4,
  "vscode": {
   "interpreter": {
    "hash": "7c7da24df9ed2709a5963e01e5c694b36f4218b9d893e201635b9542b8c007e8"
   }
  }
 },
 "nbformat": 4,
 "nbformat_minor": 2
}
